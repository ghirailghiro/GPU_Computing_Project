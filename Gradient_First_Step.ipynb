{
  "nbformat": 4,
  "nbformat_minor": 0,
  "metadata": {
    "colab": {
      "provenance": [],
      "include_colab_link": true
    },
    "kernelspec": {
      "name": "python3",
      "display_name": "Python 3"
    },
    "language_info": {
      "name": "python"
    }
  },
  "cells": [
    {
      "cell_type": "markdown",
      "metadata": {
        "id": "view-in-github",
        "colab_type": "text"
      },
      "source": [
        "<a href=\"https://colab.research.google.com/github/ghirailghiro/GPU_Computing_Project/blob/3-first-step-gradient-computation/Gradient_First_Step.ipynb\" target=\"_parent\"><img src=\"https://colab.research.google.com/assets/colab-badge.svg\" alt=\"Open In Colab\"/></a>"
      ]
    },
    {
      "cell_type": "code",
      "execution_count": 1,
      "metadata": {
        "id": "TFYXX643xLos",
        "outputId": "39fd7ee9-3e97-40c4-efa1-11d9b4257624",
        "colab": {
          "base_uri": "https://localhost:8080/"
        }
      },
      "outputs": [
        {
          "output_type": "stream",
          "name": "stdout",
          "text": [
            "Collecting nvcc4jupyter\n",
            "  Downloading nvcc4jupyter-1.1.0-py3-none-any.whl (8.0 kB)\n",
            "Installing collected packages: nvcc4jupyter\n",
            "Successfully installed nvcc4jupyter-1.1.0\n",
            "Source files will be saved in \"/tmp/tmp6xa9l7mx\".\n",
            "Sun Feb 18 10:46:45 2024       \n",
            "+---------------------------------------------------------------------------------------+\n",
            "| NVIDIA-SMI 535.104.05             Driver Version: 535.104.05   CUDA Version: 12.2     |\n",
            "|-----------------------------------------+----------------------+----------------------+\n",
            "| GPU  Name                 Persistence-M | Bus-Id        Disp.A | Volatile Uncorr. ECC |\n",
            "| Fan  Temp   Perf          Pwr:Usage/Cap |         Memory-Usage | GPU-Util  Compute M. |\n",
            "|                                         |                      |               MIG M. |\n",
            "|=========================================+======================+======================|\n",
            "|   0  Tesla T4                       Off | 00000000:00:04.0 Off |                    0 |\n",
            "| N/A   69C    P8              12W /  70W |      0MiB / 15360MiB |      0%      Default |\n",
            "|                                         |                      |                  N/A |\n",
            "+-----------------------------------------+----------------------+----------------------+\n",
            "                                                                                         \n",
            "+---------------------------------------------------------------------------------------+\n",
            "| Processes:                                                                            |\n",
            "|  GPU   GI   CI        PID   Type   Process name                            GPU Memory |\n",
            "|        ID   ID                                                             Usage      |\n",
            "|=======================================================================================|\n",
            "|  No running processes found                                                           |\n",
            "+---------------------------------------------------------------------------------------+\n",
            "--2024-02-18 10:46:45--  https://gist.github.com/akshaykhadse/7acc91dd41f52944c6150754e5530c4b/raw/cpp_plugin.py\n",
            "Resolving gist.github.com (gist.github.com)... 20.205.243.166\n",
            "Connecting to gist.github.com (gist.github.com)|20.205.243.166|:443... connected.\n",
            "HTTP request sent, awaiting response... 301 Moved Permanently\n",
            "Location: https://gist.githubusercontent.com/akshaykhadse/7acc91dd41f52944c6150754e5530c4b/raw/cpp_plugin.py [following]\n",
            "--2024-02-18 10:46:45--  https://gist.githubusercontent.com/akshaykhadse/7acc91dd41f52944c6150754e5530c4b/raw/cpp_plugin.py\n",
            "Resolving gist.githubusercontent.com (gist.githubusercontent.com)... 185.199.108.133, 185.199.109.133, 185.199.110.133, ...\n",
            "Connecting to gist.githubusercontent.com (gist.githubusercontent.com)|185.199.108.133|:443... connected.\n",
            "HTTP request sent, awaiting response... 200 OK\n",
            "Length: 2730 (2.7K) [text/plain]\n",
            "Saving to: ‘cpp_plugin.py’\n",
            "\n",
            "cpp_plugin.py       100%[===================>]   2.67K  --.-KB/s    in 0s      \n",
            "\n",
            "2024-02-18 10:46:46 (53.0 MB/s) - ‘cpp_plugin.py’ saved [2730/2730]\n",
            "\n"
          ]
        }
      ],
      "source": [
        "#Cuda plugin\n",
        "\n",
        "!pip install nvcc4jupyter\n",
        "%load_ext nvcc4jupyter\n",
        "!nvidia-smi\n",
        "\n",
        "# plugin for cpp sintax highlighting\n",
        "\n",
        "!wget -O cpp_plugin.py https://gist.github.com/akshaykhadse/7acc91dd41f52944c6150754e5530c4b/raw/cpp_plugin.py\n",
        "%load_ext cpp_plugin"
      ]
    },
    {
      "cell_type": "code",
      "source": [
        "!sudo apt update\n",
        "!sudo apt install -y build-essential\n",
        "!sudo apt install -y libopencv-dev"
      ],
      "metadata": {
        "colab": {
          "base_uri": "https://localhost:8080/"
        },
        "id": "WX8BUEvi4e_1",
        "outputId": "51f495cb-b539-46a8-d854-0d7864ae2b5b"
      },
      "execution_count": 2,
      "outputs": [
        {
          "output_type": "stream",
          "name": "stdout",
          "text": [
            "\u001b[33m\r0% [Working]\u001b[0m\r            \rGet:1 https://cloud.r-project.org/bin/linux/ubuntu jammy-cran40/ InRelease [3,626 B]\n",
            "Hit:2 https://developer.download.nvidia.com/compute/cuda/repos/ubuntu2204/x86_64  InRelease\n",
            "Get:3 http://security.ubuntu.com/ubuntu jammy-security InRelease [110 kB]\n",
            "Hit:4 http://archive.ubuntu.com/ubuntu jammy InRelease\n",
            "Get:5 http://archive.ubuntu.com/ubuntu jammy-updates InRelease [119 kB]\n",
            "Hit:6 https://ppa.launchpadcontent.net/c2d4u.team/c2d4u4.0+/ubuntu jammy InRelease\n",
            "Hit:7 https://ppa.launchpadcontent.net/deadsnakes/ppa/ubuntu jammy InRelease\n",
            "Hit:8 https://ppa.launchpadcontent.net/graphics-drivers/ppa/ubuntu jammy InRelease\n",
            "Get:9 http://security.ubuntu.com/ubuntu jammy-security/restricted amd64 Packages [1,796 kB]\n",
            "Hit:10 http://archive.ubuntu.com/ubuntu jammy-backports InRelease\n",
            "Hit:11 https://ppa.launchpadcontent.net/ubuntugis/ppa/ubuntu jammy InRelease\n",
            "Get:12 http://archive.ubuntu.com/ubuntu jammy-updates/main amd64 Packages [1,742 kB]\n",
            "Get:13 http://security.ubuntu.com/ubuntu jammy-security/main amd64 Packages [1,463 kB]\n",
            "Get:14 http://archive.ubuntu.com/ubuntu jammy-updates/restricted amd64 Packages [1,834 kB]\n",
            "Get:15 http://security.ubuntu.com/ubuntu jammy-security/universe amd64 Packages [1,070 kB]\n",
            "Get:16 http://archive.ubuntu.com/ubuntu jammy-updates/universe amd64 Packages [1,343 kB]\n",
            "Get:17 http://archive.ubuntu.com/ubuntu jammy-updates/multiverse amd64 Packages [50.4 kB]\n",
            "Fetched 9,532 kB in 2s (3,870 kB/s)\n",
            "Reading package lists... Done\n",
            "Building dependency tree... Done\n",
            "Reading state information... Done\n",
            "43 packages can be upgraded. Run 'apt list --upgradable' to see them.\n",
            "Reading package lists... Done\n",
            "Building dependency tree... Done\n",
            "Reading state information... Done\n",
            "build-essential is already the newest version (12.9ubuntu3).\n",
            "0 upgraded, 0 newly installed, 0 to remove and 43 not upgraded.\n",
            "Reading package lists... Done\n",
            "Building dependency tree... Done\n",
            "Reading state information... Done\n",
            "libopencv-dev is already the newest version (4.5.4+dfsg-9ubuntu4+jammy0).\n",
            "0 upgraded, 0 newly installed, 0 to remove and 43 not upgraded.\n"
          ]
        }
      ]
    },
    {
      "cell_type": "code",
      "source": [
        "%%writefile gradient_computation.cu\n",
        "#include <opencv2/opencv.hpp>\n",
        "#include <iostream>\n",
        "\n",
        "__global__ void computeGradients(unsigned char* image, float *d_magnitude, float *d_orientation, int width, int height) {\n",
        "    int idx = blockIdx.x * blockDim.x + threadIdx.x;\n",
        "    int idy = blockIdx.y * blockDim.y + threadIdx.y;\n",
        "    int indexCurrent = idy * width + idx;\n",
        "\n",
        "    if (idx >= width || idy >= height) return; // Boundary check\n",
        "\n",
        "    float G_x = 0;\n",
        "    if (idx > 0 && idx < width - 1) {\n",
        "        G_x = (float)image[idy * width + (idx + 1)] - (float)image[idy * width + (idx - 1)];\n",
        "    }\n",
        "\n",
        "    float G_y = 0;\n",
        "    if (idy > 0 && idy < height - 1) {\n",
        "        G_y = (float)image[(idy + 1) * width + idx] - (float)image[(idy - 1) * width + idx];\n",
        "    }\n",
        "\n",
        "    d_magnitude[indexCurrent] = sqrtf(G_x * G_x + G_y * G_y);\n",
        "    d_orientation[indexCurrent] = atan2f(G_y, G_x);\n",
        "}\n",
        "\n",
        "\n",
        "\n",
        "int main() {\n",
        "    // Example: Load an image using OpenCV\n",
        "    cv::Mat image = cv::imread(\"image.jpg\", cv::IMREAD_GRAYSCALE);\n",
        "    if(image.empty()) {\n",
        "        std::cerr << \"Failed to load image.\" << std::endl;\n",
        "        return -1;\n",
        "    }\n",
        "\n",
        "    unsigned char* d_image;\n",
        "    size_t imageSize = image.total() * image.elemSize();\n",
        "    cudaMalloc(&d_image, imageSize);\n",
        "    cudaMemcpy(d_image, image.data, imageSize, cudaMemcpyHostToDevice);\n",
        "    size_t sizeInBytes = image.total() * sizeof(float);\n",
        "    float* d_magnitude;\n",
        "    cudaError_t status = cudaMalloc((void **)&d_magnitude, sizeInBytes);\n",
        "    if (status != cudaSuccess) {\n",
        "        // Handle error (e.g., printing an error message and exiting)\n",
        "        fprintf(stderr, \"cudaMalloc failed: %s\\n\", cudaGetErrorString(status));\n",
        "        exit(EXIT_FAILURE);\n",
        "    }\n",
        "    status = cudaMemset(d_magnitude, 0, sizeInBytes);\n",
        "    if (status != cudaSuccess) {\n",
        "        // Handle error\n",
        "        fprintf(stderr, \"cudaMemset failed: %s\\n\", cudaGetErrorString(status));\n",
        "        exit(EXIT_FAILURE);\n",
        "    }\n",
        "    sizeInBytes = image.total() * sizeof(float);\n",
        "    float* d_orientation;\n",
        "    status = cudaMalloc((void **)&d_orientation, sizeInBytes);\n",
        "    if (status != cudaSuccess) {\n",
        "        // Handle error (e.g., printing an error message and exiting)\n",
        "        fprintf(stderr, \"cudaMalloc failed: %s\\n\", cudaGetErrorString(status));\n",
        "        exit(EXIT_FAILURE);\n",
        "    }\n",
        "    status = cudaMemset(d_orientation, 0, sizeInBytes);\n",
        "    if (status != cudaSuccess) {\n",
        "        // Handle error\n",
        "        fprintf(stderr, \"cudaMemset failed: %s\\n\", cudaGetErrorString(status));\n",
        "        exit(EXIT_FAILURE);\n",
        "    }\n",
        "\n",
        "    // Assuming image dimensions are reasonable for a grid of threads\n",
        "    dim3 blockSize(16, 16);\n",
        "    dim3 gridSize((image.cols + blockSize.x - 1) / blockSize.x,\n",
        "                  (image.rows + blockSize.y - 1) / blockSize.y);\n",
        "\n",
        "    // Launch the kernel\n",
        "    computeGradients<<<gridSize, blockSize>>>(d_image, d_magnitude, d_orientation, image.cols, image.rows);\n",
        "\n",
        "    cudaDeviceSynchronize();\n",
        "    float* h_magnitude = new float[image.total()]; // Host array for gradient magnitudes\n",
        "\n",
        "    // Transfer data from device to host\n",
        "    cudaMemcpy(h_magnitude, d_magnitude, image.total() * sizeof(float), cudaMemcpyDeviceToHost);\n",
        "\n",
        "    // Convert to cv::Mat\n",
        "    cv::Mat magnitudeMat(image.rows, image.cols, CV_32FC1, h_magnitude);\n",
        "\n",
        "    // Normalize and convert to 8-bit unsigned int\n",
        "    cv::Mat normalizedMagnitudeMat;\n",
        "    cv::normalize(magnitudeMat, normalizedMagnitudeMat, 0, 255, cv::NORM_MINMAX);\n",
        "    normalizedMagnitudeMat.convertTo(normalizedMagnitudeMat, CV_8UC1);\n",
        "\n",
        "    // Save the image\n",
        "    cv::imwrite(\"gradient_magnitude.jpg\", normalizedMagnitudeMat);\n",
        "\n",
        "    // Cleanup\n",
        "    delete[] h_magnitude;\n",
        "\n",
        "    cudaFree(d_image);\n",
        "    cudaFree(d_magnitude);\n",
        "    cudaFree(d_orientation);\n",
        "    return 0;\n",
        "}\n"
      ],
      "metadata": {
        "colab": {
          "base_uri": "https://localhost:8080/"
        },
        "id": "lhx8FImz5FQf",
        "outputId": "4485bc72-9d08-4c61-abfb-2d9b1e2ab231"
      },
      "execution_count": 3,
      "outputs": [
        {
          "output_type": "stream",
          "name": "stdout",
          "text": [
            "Writing gradient_computation.cu\n"
          ]
        }
      ]
    },
    {
      "cell_type": "code",
      "source": [
        "!nvcc gradient_computation.cu -o gradient_computation `pkg-config --cflags --libs opencv4` -run\n"
      ],
      "metadata": {
        "colab": {
          "base_uri": "https://localhost:8080/"
        },
        "id": "A8w_zGuh5I5c",
        "outputId": "04bafdc3-701e-473e-f7ba-52f7fa0c12d4"
      },
      "execution_count": 4,
      "outputs": [
        {
          "output_type": "stream",
          "name": "stdout",
          "text": [
            "\u001b[01m\u001b[0m\u001b[01m/usr/include/opencv4/opencv2/stitching/detail/warpers.hpp(235)\u001b[0m: \u001b[01;35mwarning\u001b[0m #611-D: overloaded virtual function \u001b[01m\"cv::detail::PlaneWarper::buildMaps\"\u001b[0m is only partially overridden in class \u001b[01m\"cv::detail::AffineWarper\"\u001b[0m\n",
            "  class AffineWarper : public PlaneWarper\n",
            "        ^\n",
            "\n",
            "\u001b[01;36m\u001b[0m\u001b[01;36mRemark\u001b[0m: The warnings can be suppressed with \"-diag-suppress <warning-number>\"\n",
            "\n",
            "\u001b[01m\u001b[0m\u001b[01m/usr/include/opencv4/opencv2/stitching/detail/warpers.hpp(235)\u001b[0m: \u001b[01;35mwarning\u001b[0m #611-D: overloaded virtual function \u001b[01m\"cv::detail::PlaneWarper::warp\"\u001b[0m is only partially overridden in class \u001b[01m\"cv::detail::AffineWarper\"\u001b[0m\n",
            "  class AffineWarper : public PlaneWarper\n",
            "        ^\n",
            "\n",
            "\u001b[01m\u001b[0m\u001b[01m/usr/include/opencv4/opencv2/stitching/detail/blenders.hpp(100)\u001b[0m: \u001b[01;35mwarning\u001b[0m #611-D: overloaded virtual function \u001b[01m\"cv::detail::Blender::prepare\"\u001b[0m is only partially overridden in class \u001b[01m\"cv::detail::FeatherBlender\"\u001b[0m\n",
            "  class FeatherBlender : public Blender\n",
            "        ^\n",
            "\n",
            "\u001b[01m\u001b[0m\u001b[01m/usr/include/opencv4/opencv2/stitching/detail/blenders.hpp(127)\u001b[0m: \u001b[01;35mwarning\u001b[0m #611-D: overloaded virtual function \u001b[01m\"cv::detail::Blender::prepare\"\u001b[0m is only partially overridden in class \u001b[01m\"cv::detail::MultiBandBlender\"\u001b[0m\n",
            "  class MultiBandBlender : public Blender\n",
            "        ^\n",
            "\n",
            "\u001b[01m\u001b[0m\u001b[01m/usr/include/opencv4/opencv2/stitching/detail/warpers.hpp(235)\u001b[0m: \u001b[01;35mwarning\u001b[0m #611-D: overloaded virtual function \u001b[01m\"cv::detail::PlaneWarper::buildMaps\"\u001b[0m is only partially overridden in class \u001b[01m\"cv::detail::AffineWarper\"\u001b[0m\n",
            "  class AffineWarper : public PlaneWarper\n",
            "        ^\n",
            "\n",
            "\u001b[01;36m\u001b[0m\u001b[01;36mRemark\u001b[0m: The warnings can be suppressed with \"-diag-suppress <warning-number>\"\n",
            "\n",
            "\u001b[01m\u001b[0m\u001b[01m/usr/include/opencv4/opencv2/stitching/detail/warpers.hpp(235)\u001b[0m: \u001b[01;35mwarning\u001b[0m #611-D: overloaded virtual function \u001b[01m\"cv::detail::PlaneWarper::warp\"\u001b[0m is only partially overridden in class \u001b[01m\"cv::detail::AffineWarper\"\u001b[0m\n",
            "  class AffineWarper : public PlaneWarper\n",
            "        ^\n",
            "\n",
            "\u001b[01m\u001b[0m\u001b[01m/usr/include/opencv4/opencv2/stitching/detail/blenders.hpp(100)\u001b[0m: \u001b[01;35mwarning\u001b[0m #611-D: overloaded virtual function \u001b[01m\"cv::detail::Blender::prepare\"\u001b[0m is only partially overridden in class \u001b[01m\"cv::detail::FeatherBlender\"\u001b[0m\n",
            "  class FeatherBlender : public Blender\n",
            "        ^\n",
            "\n",
            "\u001b[01m\u001b[0m\u001b[01m/usr/include/opencv4/opencv2/stitching/detail/blenders.hpp(127)\u001b[0m: \u001b[01;35mwarning\u001b[0m #611-D: overloaded virtual function \u001b[01m\"cv::detail::Blender::prepare\"\u001b[0m is only partially overridden in class \u001b[01m\"cv::detail::MultiBandBlender\"\u001b[0m\n",
            "  class MultiBandBlender : public Blender\n",
            "        ^\n",
            "\n"
          ]
        }
      ]
    },
    {
      "cell_type": "code",
      "source": [
        "!./gradient_computation"
      ],
      "metadata": {
        "id": "VWoilFdw5Ll8",
        "colab": {
          "base_uri": "https://localhost:8080/"
        },
        "outputId": "0e167f5d-3a26-4fa1-e995-2b77568b4308"
      },
      "execution_count": 1,
      "outputs": [
        {
          "output_type": "stream",
          "name": "stdout",
          "text": [
            "/bin/bash: line 1: ./gradient_computation: No such file or directory\n"
          ]
        }
      ]
    }
  ]
}